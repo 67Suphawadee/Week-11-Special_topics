{
 "cells": [
  {
   "cell_type": "markdown",
   "id": "21de35ee",
   "metadata": {},
   "source": [
    "# ใบงานที่ 11: การแปลงสัญญาณแอนะล็อกเป็นดิจิทัล (ADC) ใน ESP32\n",
    "\n",
    "## วัตถุประสงค์\n",
    "1. เพื่อทำความเข้าใจหลักการทำงานของ ADC (Analog-to-Digital Converter)\n",
    "2. เพื่อศึกษาคุณสมบัติและข้อจำกัดของ ADC ใน ESP32\n",
    "3. เพื่อฝึกการเขียนโปรแกรมอ่านค่าจากเซนเซอร์แอนะล็อกด้วย ESP32\n",
    "4. เพื่อวิเคราะห์และแปลความหมายข้อมูลที่ได้จาก ADC\n",
    "\n",
    "## อุปกรณ์ที่ต้องใช้\n",
    "- ESP32 Development Board\n",
    "- Potentiometer (ตัวต้านทานปรับค่าได้) 10kΩ \n",
    "- LDR (Light Dependent Resistor) หรือ Photoresistor \n",
    "- ตัวต้านทาน 10kΩ สำหรับ pull-down\n",